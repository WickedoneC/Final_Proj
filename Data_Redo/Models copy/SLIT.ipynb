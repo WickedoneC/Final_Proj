{
 "cells": [
  {
   "cell_type": "code",
   "execution_count": 4,
   "metadata": {},
   "outputs": [],
   "source": [
    "import sys\n",
    "import pandas as pd\n",
    "import altair as alt"
   ]
  },
  {
   "cell_type": "code",
   "execution_count": 3,
   "metadata": {},
   "outputs": [
    {
     "name": "stdout",
     "output_type": "stream",
     "text": [
      "Collecting package metadata (current_repodata.json): done\n",
      "Solving environment: done\n",
      "\n",
      "## Package Plan ##\n",
      "\n",
      "  environment location: /opt/anaconda3\n",
      "\n",
      "  added / updated specs:\n",
      "    - altair\n",
      "\n",
      "\n",
      "The following packages will be downloaded:\n",
      "\n",
      "    package                    |            build\n",
      "    ---------------------------|-----------------\n",
      "    altair-3.2.0               |           py37_0         750 KB\n",
      "    ------------------------------------------------------------\n",
      "                                           Total:         750 KB\n",
      "\n",
      "The following NEW packages will be INSTALLED:\n",
      "\n",
      "  altair             pkgs/main/osx-64::altair-3.2.0-py37_0\n",
      "\n",
      "\n",
      "\n",
      "Downloading and Extracting Packages\n",
      "altair-3.2.0         | 750 KB    | ##################################### | 100% \n",
      "Preparing transaction: done\n",
      "Verifying transaction: done\n",
      "Executing transaction: done\n",
      "\n",
      "Note: you may need to restart the kernel to use updated packages.\n"
     ]
    }
   ],
   "source": [
    "conda install altair"
   ]
  },
  {
   "cell_type": "code",
   "execution_count": 5,
   "metadata": {},
   "outputs": [],
   "source": [
    "if sys.version_info[0] < 3:\n",
    "    reload(sys) # noqa: F821 pylint:disable=undefined-variable\n",
    "    sys.setdefaultencoding(\"utf-8\")"
   ]
  },
  {
   "cell_type": "code",
   "execution_count": 6,
   "metadata": {},
   "outputs": [
    {
     "ename": "NameError",
     "evalue": "name 'st' is not defined",
     "output_type": "error",
     "traceback": [
      "\u001b[0;31m---------------------------------------------------------------------------\u001b[0m",
      "\u001b[0;31mNameError\u001b[0m                                 Traceback (most recent call last)",
      "\u001b[0;32m<ipython-input-6-02af8b150ea8>\u001b[0m in \u001b[0;36m<module>\u001b[0;34m\u001b[0m\n\u001b[0;32m----> 1\u001b[0;31m \u001b[0;34m@\u001b[0m\u001b[0mst\u001b[0m\u001b[0;34m.\u001b[0m\u001b[0mcache\u001b[0m\u001b[0;34m\u001b[0m\u001b[0;34m\u001b[0m\u001b[0m\n\u001b[0m\u001b[1;32m      2\u001b[0m \u001b[0;32mdef\u001b[0m \u001b[0mget_cr_data\u001b[0m\u001b[0;34m(\u001b[0m\u001b[0;34m)\u001b[0m\u001b[0;34m:\u001b[0m\u001b[0;34m\u001b[0m\u001b[0;34m\u001b[0m\u001b[0m\n\u001b[1;32m      3\u001b[0m     \u001b[0mdf\u001b[0m \u001b[0;34m=\u001b[0m \u001b[0mpd\u001b[0m\u001b[0;34m.\u001b[0m\u001b[0mread_csv\u001b[0m\u001b[0;34m(\u001b[0m\u001b[0;34m\"finished_df.csv\"\u001b[0m\u001b[0;34m)\u001b[0m\u001b[0;34m\u001b[0m\u001b[0;34m\u001b[0m\u001b[0m\n\u001b[1;32m      4\u001b[0m     \u001b[0;32mreturn\u001b[0m \u001b[0mdf\u001b[0m\u001b[0;34m.\u001b[0m\u001b[0mset_index\u001b[0m\u001b[0;34m(\u001b[0m\u001b[0;34m\"Ticker\"\u001b[0m\u001b[0;34m)\u001b[0m\u001b[0;34m\u001b[0m\u001b[0;34m\u001b[0m\u001b[0m\n\u001b[1;32m      5\u001b[0m \u001b[0;34m\u001b[0m\u001b[0m\n",
      "\u001b[0;31mNameError\u001b[0m: name 'st' is not defined"
     ]
    }
   ],
   "source": [
    "@st.cache\n",
    "def get_cr_data():\n",
    "    df = pd.read_csv(\"finished_df.csv\")\n",
    "    return df.set_index(\"Ticker\")\n",
    "\n",
    "try:\n",
    "    df = get_cr_data()\n",
    "except urllib.error.URLError as e:\n",
    "    st.error(\n",
    "        \"\"\"\n",
    "        **This demo requires internet access.**\n",
    "\n",
    "        Connection error: %s\n",
    "    \"\"\"\n",
    "        % e.reason\n",
    "    )\n",
    "    return\n",
    "\n",
    "companies = st.multiselect(\n",
    "    \"Choose Tickers\", list(df.index), [\"AAL\", \"VZ\"]\n",
    ")\n",
    "if not companies:\n",
    "    st.error(\"Please select at least one Ticker.\")\n",
    "    return \"Please select at least one TIcker\"\n",
    "\n",
    "data = df.loc[companies]\n",
    "# data /= 1000000.0\n",
    "df.loc[test_df[\"Ticker\"] == data]\n",
    "st.write(\"Bond Information\", data.sort_index())\n",
    "\n",
    "data = data.T.reset_index()\n",
    "data = pd.melt(data, id_vars=[\"index\"]).rename(\n",
    "    columns={\"index\": \"year\", \"value\": \"Gross Agricultural Product ($B)\"}\n",
    ")\n",
    "chart = (\n",
    "    alt.Chart(data)\n",
    "    .mark_area(opacity=0.3)\n",
    "    .encode(\n",
    "        x=\"year:T\",\n",
    "        y=alt.Y(\"Gross Agricultural Product ($B):Q\", stack=None),\n",
    "        color=\"Region:N\",\n",
    "    )\n",
    ")\n",
    "st.altair_chart(chart, use_container_width=True)"
   ]
  },
  {
   "cell_type": "code",
   "execution_count": null,
   "metadata": {},
   "outputs": [],
   "source": []
  }
 ],
 "metadata": {
  "kernelspec": {
   "display_name": "Python 3",
   "language": "python",
   "name": "python3"
  },
  "language_info": {
   "codemirror_mode": {
    "name": "ipython",
    "version": 3
   },
   "file_extension": ".py",
   "mimetype": "text/x-python",
   "name": "python",
   "nbconvert_exporter": "python",
   "pygments_lexer": "ipython3",
   "version": "3.7.4"
  }
 },
 "nbformat": 4,
 "nbformat_minor": 2
}
