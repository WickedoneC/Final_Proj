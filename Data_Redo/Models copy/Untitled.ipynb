{
 "cells": [
  {
   "cell_type": "code",
   "execution_count": 13,
   "metadata": {
    "scrolled": true
   },
   "outputs": [],
   "source": [
    "import sys\n",
    "import pandas as pd\n",
    "import altair as alt\n",
    "import streamlit as st\n",
    "\n",
    "df = pd.read_csv('/Users/wickedbear/Coding/Projects/Final_Proj/Data_Redo/Models copy/cleaned_df2.csv')\n",
    "\n",
    "cols_drop = ['Unnamed: 0']\n",
    "df.drop(columns=cols_drop, inplace=True)\n",
    "\n",
    "mdf = df[[\"Moody's Rating\"]]\n",
    "\n",
    "ndf = pd.read_csv('/Users/wickedbear/Coding/Projects/Final_Proj/Data_Redo/Models copy/ntr.csv')\n",
    "ndf.drop(columns=cols_drop, inplace=True)\n",
    "\n",
    "o = df[[\"Moody's Rating\"]]\n",
    "dfw = df.drop(\"Moody's Rating\", axis=1)\n",
    "dfc = df\n",
    "\n",
    "data_rankings = {'Aaa':0,\n",
    "'Aa1':1,\n",
    "'Aa2':2,\n",
    "'Aa3':3,\n",
    "'A1':4,\n",
    "'A2':5,\n",
    "'A3':6,\n",
    "'Baa1':7,\n",
    "'Baa2':8,\n",
    "'Baa3':9,\n",
    "'Ba1':10,\n",
    "'Ba2':11,\n",
    "'Ba3':12,\n",
    "'B1': 13,\n",
    "'B2':14,\n",
    "'B3':15,\n",
    "'WR':16\n",
    "                }\n",
    "\n",
    "dfc[\"Moody's Rating\"] = dfc[\"Moody's Rating\"].replace(data_rankings)\n",
    "\n",
    "y = df[\"Moody's Rating\"]\n",
    "X = df.drop(\"Moody's Rating\", axis=1)\n",
    "\n",
    "from sklearn.cluster import KMeans\n",
    "k_means = KMeans(n_clusters=16)\n",
    "k_means.fit(X)\n",
    "cluster_assignments = k_means.predict(X)\n",
    "\n",
    "r = pd.DataFrame(cluster_assignments)\n",
    "r[\"Predicted Rating\"] = r[0]\n",
    "r.drop(0, axis=1, inplace=True)\n",
    "\n",
    "inv_map = {v: k for k, v in data_rankings.items()}\n",
    "\n",
    "(o[\"Moody's Rating\"] == r[\"Predicted Rating\"]).value_counts()\n",
    "\n",
    "p = o.replace(data_rankings)\n",
    "\n",
    "\n",
    "test_val = p[\"Moody's Rating\"] - r[\"Predicted Rating\"]\n",
    "mean_diff_rating = test_val.mean()\n",
    "mean_diff_rating\n",
    "\n",
    "r[\"Predicted Rating\"] = r[\"Predicted Rating\"].replace(inv_map)\n",
    "p[\"Moody's Rating\"] = p[\"Moody's Rating\"].replace(inv_map)\n",
    "\n",
    "ndf = ndf.drop(columns=\"Names\")\n",
    "names_x = pd.concat([ndf, X], axis=1)\n",
    "rx = pd.concat([r, names_x], axis=1)\n",
    "\n",
    "\n",
    "ticker_list = list(rx[\"Ticker\"].unique())\n",
    "\n",
    "rx.loc[rx[\"Moody's Rating\"] == \"Ba3\"]\n",
    "\n",
    "var = \"VZ\"\n",
    "# rx.loc[rx[\"Ticker\"] == var]\n",
    "# hlist = [\"VZ\"]\n",
    "\n",
    "hlist = st.multiselect(\"VZ\", ticker_list)\n",
    "\n",
    "for thing in hlist:\n",
    "    z = rx.loc[rx[\"Ticker\"] == thing]\n",
    "    \n"
   ]
  },
  {
   "cell_type": "code",
   "execution_count": 10,
   "metadata": {},
   "outputs": [],
   "source": []
  },
  {
   "cell_type": "code",
   "execution_count": 14,
   "metadata": {},
   "outputs": [
    {
     "ename": "NameError",
     "evalue": "name 'z' is not defined",
     "output_type": "error",
     "traceback": [
      "\u001b[0;31m---------------------------------------------------------------------------\u001b[0m",
      "\u001b[0;31mNameError\u001b[0m                                 Traceback (most recent call last)",
      "\u001b[0;32m<ipython-input-14-3a710d2a84f8>\u001b[0m in \u001b[0;36m<module>\u001b[0;34m\u001b[0m\n\u001b[0;32m----> 1\u001b[0;31m \u001b[0mz\u001b[0m\u001b[0;34m\u001b[0m\u001b[0;34m\u001b[0m\u001b[0m\n\u001b[0m",
      "\u001b[0;31mNameError\u001b[0m: name 'z' is not defined"
     ]
    }
   ],
   "source": [
    "z"
   ]
  },
  {
   "cell_type": "code",
   "execution_count": null,
   "metadata": {},
   "outputs": [],
   "source": [
    "ticker_list"
   ]
  },
  {
   "cell_type": "code",
   "execution_count": null,
   "metadata": {},
   "outputs": [],
   "source": [
    "z"
   ]
  },
  {
   "cell_type": "code",
   "execution_count": null,
   "metadata": {},
   "outputs": [],
   "source": [
    "z"
   ]
  },
  {
   "cell_type": "code",
   "execution_count": null,
   "metadata": {},
   "outputs": [],
   "source": [
    "ticker_list = list(rx[\"Ticker\"].unique())"
   ]
  },
  {
   "cell_type": "code",
   "execution_count": null,
   "metadata": {},
   "outputs": [],
   "source": []
  }
 ],
 "metadata": {
  "kernelspec": {
   "display_name": "Python 3",
   "language": "python",
   "name": "python3"
  },
  "language_info": {
   "codemirror_mode": {
    "name": "ipython",
    "version": 3
   },
   "file_extension": ".py",
   "mimetype": "text/x-python",
   "name": "python",
   "nbconvert_exporter": "python",
   "pygments_lexer": "ipython3",
   "version": "3.7.4"
  }
 },
 "nbformat": 4,
 "nbformat_minor": 2
}
