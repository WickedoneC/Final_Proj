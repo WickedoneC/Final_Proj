{
 "cells": [
  {
   "cell_type": "code",
   "execution_count": null,
   "metadata": {},
   "outputs": [],
   "source": [
    "Data Gathering:\n",
    "    \n",
    "Sources:\n",
    "    -Business Insider Bond Screener \n",
    "        -need to scrape the search results\n",
    "        \n",
    "    -Russell 1000 Shares stock list\n",
    "        -excel file\n",
    "        \n",
    "    -Morningstar Financials\n",
    "        -need to scrape for:\n",
    "            -NYSE list of stocks\n",
    "                -financials\n",
    "                -valuations\n",
    "                -operating performance\n",
    "            -NASDAQ list of stocks\n",
    "                -financials\n",
    "                -valuations\n",
    "                -operating performance\n",
    "            "
   ]
  }
 ],
 "metadata": {
  "kernelspec": {
   "display_name": "Python 3",
   "language": "python",
   "name": "python3"
  },
  "language_info": {
   "codemirror_mode": {
    "name": "ipython",
    "version": 3
   },
   "file_extension": ".py",
   "mimetype": "text/x-python",
   "name": "python",
   "nbconvert_exporter": "python",
   "pygments_lexer": "ipython3",
   "version": "3.7.4"
  }
 },
 "nbformat": 4,
 "nbformat_minor": 2
}
